{
 "cells": [
  {
   "cell_type": "markdown",
   "id": "f8911ee1",
   "metadata": {
    "_cell_guid": "b1076dfc-b9ad-4769-8c92-a6c4dae69d19",
    "_uuid": "8f2839f25d086af736a60e9eeb907d3b93b6e0e5",
    "execution": {
     "iopub.execute_input": "2023-04-26T13:13:36.643161Z",
     "iopub.status.busy": "2023-04-26T13:13:36.642695Z",
     "iopub.status.idle": "2023-04-26T13:13:36.660169Z",
     "shell.execute_reply": "2023-04-26T13:13:36.658398Z",
     "shell.execute_reply.started": "2023-04-26T13:13:36.643120Z"
    },
    "papermill": {
     "duration": 0.010012,
     "end_time": "2023-04-29T11:13:49.093101",
     "exception": false,
     "start_time": "2023-04-29T11:13:49.083089",
     "status": "completed"
    },
    "tags": []
   },
   "source": [
    "### MSDS Deep Learning Week 4: NLP Disaster Tweets Kaggle Mini-Project\n",
    "Kaggle competition: Natural Language Processing with Disaster Tweets.\n",
    "\n",
    "This Kaggle competition is about classifying texts. It is an excellent introduction to Natural Language Processing (NLP). "
   ]
  },
  {
   "cell_type": "markdown",
   "id": "b167e83d",
   "metadata": {
    "papermill": {
     "duration": 0.008356,
     "end_time": "2023-04-29T11:13:49.110985",
     "exception": false,
     "start_time": "2023-04-29T11:13:49.102629",
     "status": "completed"
    },
    "tags": []
   },
   "source": [
    "#### Importing required libraries"
   ]
  },
  {
   "cell_type": "code",
   "execution_count": 1,
   "id": "951949db",
   "metadata": {
    "execution": {
     "iopub.execute_input": "2023-04-29T11:13:49.130634Z",
     "iopub.status.busy": "2023-04-29T11:13:49.129860Z",
     "iopub.status.idle": "2023-04-29T11:13:50.862955Z",
     "shell.execute_reply": "2023-04-29T11:13:50.861914Z"
    },
    "papermill": {
     "duration": 1.745882,
     "end_time": "2023-04-29T11:13:50.865529",
     "exception": false,
     "start_time": "2023-04-29T11:13:49.119647",
     "status": "completed"
    },
    "tags": []
   },
   "outputs": [
    {
     "name": "stdout",
     "output_type": "stream",
     "text": [
      "/kaggle/input/nlp-getting-started/sample_submission.csv\n",
      "/kaggle/input/nlp-getting-started/train.csv\n",
      "/kaggle/input/nlp-getting-started/test.csv\n",
      "[nltk_data] Downloading package punkt to /usr/share/nltk_data...\n",
      "[nltk_data]   Package punkt is already up-to-date!\n",
      "[nltk_data] Downloading package wordnet to /usr/share/nltk_data...\n",
      "[nltk_data]   Package wordnet is already up-to-date!\n"
     ]
    },
    {
     "data": {
      "text/plain": [
       "True"
      ]
     },
     "execution_count": 1,
     "metadata": {},
     "output_type": "execute_result"
    }
   ],
   "source": [
    "# This Python 3 environment comes with many helpful analytics libraries installed\n",
    "# It is defined by the kaggle/python Docker image: https://github.com/kaggle/docker-python\n",
    "# For example, here's several helpful packages to load\n",
    "\n",
    "import numpy as np # linear algebra\n",
    "import pandas as pd # data processing, CSV file I/O (e.g. pd.read_csv)\n",
    "\n",
    "# Input data files are available in the read-only \"../input/\" directory\n",
    "# For example, running this (by clicking run or pressing Shift+Enter) will list all files under the input directory\n",
    "\n",
    "import os\n",
    "for dirname, _, filenames in os.walk('/kaggle/input'):\n",
    "    for filename in filenames:\n",
    "        print(os.path.join(dirname, filename))\n",
    "\n",
    "# You can write up to 20GB to the current directory (/kaggle/working/) that gets preserved as output when you create a version using \"Save & Run All\" \n",
    "# You can also write temporary files to /kaggle/temp/, but they won't be saved outside of the current session\n",
    "\n",
    "import re\n",
    "import nltk\n",
    "nltk.download('punkt')\n",
    "from nltk.tokenize import word_tokenize\n",
    "from nltk.tokenize import RegexpTokenizer\n",
    "import string\n",
    "import numpy as np\n",
    "nltk.download('wordnet')"
   ]
  },
  {
   "cell_type": "markdown",
   "id": "b693727a",
   "metadata": {
    "papermill": {
     "duration": 0.008546,
     "end_time": "2023-04-29T11:13:50.883052",
     "exception": false,
     "start_time": "2023-04-29T11:13:50.874506",
     "status": "completed"
    },
    "tags": []
   },
   "source": [
    "#### Explore data"
   ]
  },
  {
   "cell_type": "code",
   "execution_count": 2,
   "id": "265e58af",
   "metadata": {
    "execution": {
     "iopub.execute_input": "2023-04-29T11:13:50.903136Z",
     "iopub.status.busy": "2023-04-29T11:13:50.902360Z",
     "iopub.status.idle": "2023-04-29T11:13:50.975022Z",
     "shell.execute_reply": "2023-04-29T11:13:50.974004Z"
    },
    "papermill": {
     "duration": 0.085808,
     "end_time": "2023-04-29T11:13:50.977724",
     "exception": false,
     "start_time": "2023-04-29T11:13:50.891916",
     "status": "completed"
    },
    "tags": []
   },
   "outputs": [],
   "source": [
    "dftrain = pd.read_csv('/kaggle/input/nlp-getting-started/train.csv')\n",
    "dftest = pd.read_csv('/kaggle/input/nlp-getting-started/test.csv')"
   ]
  },
  {
   "cell_type": "code",
   "execution_count": 3,
   "id": "9f80dd7a",
   "metadata": {
    "execution": {
     "iopub.execute_input": "2023-04-29T11:13:50.997750Z",
     "iopub.status.busy": "2023-04-29T11:13:50.997027Z",
     "iopub.status.idle": "2023-04-29T11:13:51.025846Z",
     "shell.execute_reply": "2023-04-29T11:13:51.024537Z"
    },
    "papermill": {
     "duration": 0.041513,
     "end_time": "2023-04-29T11:13:51.028228",
     "exception": false,
     "start_time": "2023-04-29T11:13:50.986715",
     "status": "completed"
    },
    "tags": []
   },
   "outputs": [
    {
     "name": "stdout",
     "output_type": "stream",
     "text": [
      "<class 'pandas.core.frame.DataFrame'>\n",
      "RangeIndex: 7613 entries, 0 to 7612\n",
      "Data columns (total 5 columns):\n",
      " #   Column    Non-Null Count  Dtype \n",
      "---  ------    --------------  ----- \n",
      " 0   id        7613 non-null   int64 \n",
      " 1   keyword   7552 non-null   object\n",
      " 2   location  5080 non-null   object\n",
      " 3   text      7613 non-null   object\n",
      " 4   target    7613 non-null   int64 \n",
      "dtypes: int64(2), object(3)\n",
      "memory usage: 297.5+ KB\n"
     ]
    }
   ],
   "source": [
    "dftrain.info()"
   ]
  },
  {
   "cell_type": "code",
   "execution_count": 4,
   "id": "004620c9",
   "metadata": {
    "execution": {
     "iopub.execute_input": "2023-04-29T11:13:51.048573Z",
     "iopub.status.busy": "2023-04-29T11:13:51.047878Z",
     "iopub.status.idle": "2023-04-29T11:13:51.061322Z",
     "shell.execute_reply": "2023-04-29T11:13:51.059971Z"
    },
    "papermill": {
     "duration": 0.026643,
     "end_time": "2023-04-29T11:13:51.063865",
     "exception": false,
     "start_time": "2023-04-29T11:13:51.037222",
     "status": "completed"
    },
    "tags": []
   },
   "outputs": [
    {
     "name": "stdout",
     "output_type": "stream",
     "text": [
      "<class 'pandas.core.frame.DataFrame'>\n",
      "RangeIndex: 3263 entries, 0 to 3262\n",
      "Data columns (total 4 columns):\n",
      " #   Column    Non-Null Count  Dtype \n",
      "---  ------    --------------  ----- \n",
      " 0   id        3263 non-null   int64 \n",
      " 1   keyword   3237 non-null   object\n",
      " 2   location  2158 non-null   object\n",
      " 3   text      3263 non-null   object\n",
      "dtypes: int64(1), object(3)\n",
      "memory usage: 102.1+ KB\n"
     ]
    }
   ],
   "source": [
    "dftest.info()"
   ]
  },
  {
   "cell_type": "markdown",
   "id": "0e4b627f",
   "metadata": {
    "papermill": {
     "duration": 0.008827,
     "end_time": "2023-04-29T11:13:51.082695",
     "exception": false,
     "start_time": "2023-04-29T11:13:51.073868",
     "status": "completed"
    },
    "tags": []
   },
   "source": [
    "#### Preprocess"
   ]
  },
  {
   "cell_type": "code",
   "execution_count": 5,
   "id": "d7a82eb6",
   "metadata": {
    "execution": {
     "iopub.execute_input": "2023-04-29T11:13:51.102926Z",
     "iopub.status.busy": "2023-04-29T11:13:51.102078Z",
     "iopub.status.idle": "2023-04-29T11:13:51.109761Z",
     "shell.execute_reply": "2023-04-29T11:13:51.108491Z"
    },
    "papermill": {
     "duration": 0.020477,
     "end_time": "2023-04-29T11:13:51.112167",
     "exception": false,
     "start_time": "2023-04-29T11:13:51.091690",
     "status": "completed"
    },
    "tags": []
   },
   "outputs": [],
   "source": [
    "def preprocess1(text):\n",
    "    text=str(text).lower() \n",
    "    text=re.sub('\\d+', '', text)\n",
    "    text=re.sub('\\[.*?\\]', '', text)\n",
    "    text=re.sub('https?://\\S+|www\\.\\S+', '', text) \n",
    "    text=re.sub(r\"[\" u\"\\U0001F600-\\U0001F64F\" u\"\\U0001F300-\\U0001F5FF\"  u\"\\U0001F680-\\U0001F6FF\"  u\"\\U0001F1E0-\\U0001F1FF\"  u\"\\U000024C2-\\U0001F251\" \"]+\", \"\", text) \n",
    "    text=re.sub('[%s]' % re.escape(string.punctuation),'',text) \n",
    "    return text"
   ]
  },
  {
   "cell_type": "code",
   "execution_count": 6,
   "id": "625394f5",
   "metadata": {
    "execution": {
     "iopub.execute_input": "2023-04-29T11:13:51.132713Z",
     "iopub.status.busy": "2023-04-29T11:13:51.131618Z",
     "iopub.status.idle": "2023-04-29T11:13:51.345729Z",
     "shell.execute_reply": "2023-04-29T11:13:51.344418Z"
    },
    "papermill": {
     "duration": 0.227147,
     "end_time": "2023-04-29T11:13:51.348304",
     "exception": false,
     "start_time": "2023-04-29T11:13:51.121157",
     "status": "completed"
    },
    "tags": []
   },
   "outputs": [
    {
     "data": {
      "text/html": [
       "<div>\n",
       "<style scoped>\n",
       "    .dataframe tbody tr th:only-of-type {\n",
       "        vertical-align: middle;\n",
       "    }\n",
       "\n",
       "    .dataframe tbody tr th {\n",
       "        vertical-align: top;\n",
       "    }\n",
       "\n",
       "    .dataframe thead th {\n",
       "        text-align: right;\n",
       "    }\n",
       "</style>\n",
       "<table border=\"1\" class=\"dataframe\">\n",
       "  <thead>\n",
       "    <tr style=\"text-align: right;\">\n",
       "      <th></th>\n",
       "      <th>id</th>\n",
       "      <th>keyword</th>\n",
       "      <th>location</th>\n",
       "      <th>text</th>\n",
       "      <th>target</th>\n",
       "      <th>clean_text</th>\n",
       "    </tr>\n",
       "  </thead>\n",
       "  <tbody>\n",
       "    <tr>\n",
       "      <th>0</th>\n",
       "      <td>1</td>\n",
       "      <td>NaN</td>\n",
       "      <td>NaN</td>\n",
       "      <td>Our Deeds are the Reason of this #earthquake M...</td>\n",
       "      <td>1</td>\n",
       "      <td>our deeds are the reason of this earthquake ma...</td>\n",
       "    </tr>\n",
       "    <tr>\n",
       "      <th>1</th>\n",
       "      <td>4</td>\n",
       "      <td>NaN</td>\n",
       "      <td>NaN</td>\n",
       "      <td>Forest fire near La Ronge Sask. Canada</td>\n",
       "      <td>1</td>\n",
       "      <td>forest fire near la ronge sask canada</td>\n",
       "    </tr>\n",
       "    <tr>\n",
       "      <th>2</th>\n",
       "      <td>5</td>\n",
       "      <td>NaN</td>\n",
       "      <td>NaN</td>\n",
       "      <td>All residents asked to 'shelter in place' are ...</td>\n",
       "      <td>1</td>\n",
       "      <td>all residents asked to shelter in place are be...</td>\n",
       "    </tr>\n",
       "    <tr>\n",
       "      <th>3</th>\n",
       "      <td>6</td>\n",
       "      <td>NaN</td>\n",
       "      <td>NaN</td>\n",
       "      <td>13,000 people receive #wildfires evacuation or...</td>\n",
       "      <td>1</td>\n",
       "      <td>people receive wildfires evacuation orders in...</td>\n",
       "    </tr>\n",
       "    <tr>\n",
       "      <th>4</th>\n",
       "      <td>7</td>\n",
       "      <td>NaN</td>\n",
       "      <td>NaN</td>\n",
       "      <td>Just got sent this photo from Ruby #Alaska as ...</td>\n",
       "      <td>1</td>\n",
       "      <td>just got sent this photo from ruby alaska as s...</td>\n",
       "    </tr>\n",
       "  </tbody>\n",
       "</table>\n",
       "</div>"
      ],
      "text/plain": [
       "   id keyword location                                               text  \\\n",
       "0   1     NaN      NaN  Our Deeds are the Reason of this #earthquake M...   \n",
       "1   4     NaN      NaN             Forest fire near La Ronge Sask. Canada   \n",
       "2   5     NaN      NaN  All residents asked to 'shelter in place' are ...   \n",
       "3   6     NaN      NaN  13,000 people receive #wildfires evacuation or...   \n",
       "4   7     NaN      NaN  Just got sent this photo from Ruby #Alaska as ...   \n",
       "\n",
       "   target                                         clean_text  \n",
       "0       1  our deeds are the reason of this earthquake ma...  \n",
       "1       1              forest fire near la ronge sask canada  \n",
       "2       1  all residents asked to shelter in place are be...  \n",
       "3       1   people receive wildfires evacuation orders in...  \n",
       "4       1  just got sent this photo from ruby alaska as s...  "
      ]
     },
     "execution_count": 6,
     "metadata": {},
     "output_type": "execute_result"
    }
   ],
   "source": [
    "dftrain['clean_text']=dftrain['text'].apply(preprocess1)\n",
    "dftest['clean_text']=dftest['text'].apply(preprocess1)\n",
    "\n",
    "dftrain.head()"
   ]
  },
  {
   "cell_type": "code",
   "execution_count": 7,
   "id": "de3e7897",
   "metadata": {
    "execution": {
     "iopub.execute_input": "2023-04-29T11:13:51.369175Z",
     "iopub.status.busy": "2023-04-29T11:13:51.368451Z",
     "iopub.status.idle": "2023-04-29T11:13:51.381413Z",
     "shell.execute_reply": "2023-04-29T11:13:51.380009Z"
    },
    "papermill": {
     "duration": 0.025906,
     "end_time": "2023-04-29T11:13:51.383659",
     "exception": false,
     "start_time": "2023-04-29T11:13:51.357753",
     "status": "completed"
    },
    "tags": []
   },
   "outputs": [
    {
     "name": "stdout",
     "output_type": "stream",
     "text": [
      "[nltk_data] Downloading package stopwords to /usr/share/nltk_data...\n",
      "[nltk_data]   Package stopwords is already up-to-date!\n"
     ]
    }
   ],
   "source": [
    "from nltk.corpus import stopwords\n",
    "nltk.download('stopwords')\n",
    "stop=set(stopwords.words('english'))\n",
    "stop.remove('not')"
   ]
  },
  {
   "cell_type": "code",
   "execution_count": 8,
   "id": "69d8a142",
   "metadata": {
    "execution": {
     "iopub.execute_input": "2023-04-29T11:13:51.404427Z",
     "iopub.status.busy": "2023-04-29T11:13:51.403750Z",
     "iopub.status.idle": "2023-04-29T11:13:51.409242Z",
     "shell.execute_reply": "2023-04-29T11:13:51.407967Z"
    },
    "papermill": {
     "duration": 0.019136,
     "end_time": "2023-04-29T11:13:51.411990",
     "exception": false,
     "start_time": "2023-04-29T11:13:51.392854",
     "status": "completed"
    },
    "tags": []
   },
   "outputs": [],
   "source": [
    "from nltk.stem.porter import PorterStemmer\n",
    "from nltk.tokenize import word_tokenize, sent_tokenize\n",
    "ps = PorterStemmer()"
   ]
  },
  {
   "cell_type": "code",
   "execution_count": 9,
   "id": "80f13fd7",
   "metadata": {
    "execution": {
     "iopub.execute_input": "2023-04-29T11:13:51.433106Z",
     "iopub.status.busy": "2023-04-29T11:13:51.432444Z",
     "iopub.status.idle": "2023-04-29T11:13:51.437399Z",
     "shell.execute_reply": "2023-04-29T11:13:51.436543Z"
    },
    "papermill": {
     "duration": 0.018166,
     "end_time": "2023-04-29T11:13:51.439650",
     "exception": false,
     "start_time": "2023-04-29T11:13:51.421484",
     "status": "completed"
    },
    "tags": []
   },
   "outputs": [],
   "source": [
    "def stemming(text):\n",
    "    stem_strings=list(map(lambda y: [ps.stem(word) for word in word_tokenize(y) if word not in stop],dftrain['clean_text']))\n",
    "    return stem_strings"
   ]
  },
  {
   "cell_type": "code",
   "execution_count": 10,
   "id": "c4bbd395",
   "metadata": {
    "execution": {
     "iopub.execute_input": "2023-04-29T11:13:51.461132Z",
     "iopub.status.busy": "2023-04-29T11:13:51.460187Z",
     "iopub.status.idle": "2023-04-29T11:13:54.529569Z",
     "shell.execute_reply": "2023-04-29T11:13:54.528239Z"
    },
    "papermill": {
     "duration": 3.082727,
     "end_time": "2023-04-29T11:13:54.532201",
     "exception": false,
     "start_time": "2023-04-29T11:13:51.449474",
     "status": "completed"
    },
    "tags": []
   },
   "outputs": [
    {
     "data": {
      "text/plain": [
       "[['forest', 'fire', 'near', 'la', 'rong', 'sask', 'canada'],\n",
       " ['resid',\n",
       "  'ask',\n",
       "  'shelter',\n",
       "  'place',\n",
       "  'notifi',\n",
       "  'offic',\n",
       "  'evacu',\n",
       "  'shelter',\n",
       "  'place',\n",
       "  'order',\n",
       "  'expect'],\n",
       " ['peopl', 'receiv', 'wildfir', 'evacu', 'order', 'california'],\n",
       " ['got',\n",
       "  'sent',\n",
       "  'photo',\n",
       "  'rubi',\n",
       "  'alaska',\n",
       "  'smoke',\n",
       "  'wildfir',\n",
       "  'pour',\n",
       "  'school'],\n",
       " ['rockyfir',\n",
       "  'updat',\n",
       "  'california',\n",
       "  'hwi',\n",
       "  'close',\n",
       "  'direct',\n",
       "  'due',\n",
       "  'lake',\n",
       "  'counti',\n",
       "  'fire',\n",
       "  'cafir',\n",
       "  'wildfir'],\n",
       " ['flood',\n",
       "  'disast',\n",
       "  'heavi',\n",
       "  'rain',\n",
       "  'caus',\n",
       "  'flash',\n",
       "  'flood',\n",
       "  'street',\n",
       "  'manit',\n",
       "  'colorado',\n",
       "  'spring',\n",
       "  'area'],\n",
       " ['im', 'top', 'hill', 'see', 'fire', 'wood'],\n",
       " ['there', 'emerg', 'evacu', 'happen', 'build', 'across', 'street'],\n",
       " ['im', 'afraid', 'tornado', 'come', 'area']]"
      ]
     },
     "execution_count": 10,
     "metadata": {},
     "output_type": "execute_result"
    }
   ],
   "source": [
    "text_after_stemming=stemming(dftrain['clean_text'])\n",
    "text_after_stemming[1:10]"
   ]
  },
  {
   "cell_type": "code",
   "execution_count": 11,
   "id": "8c413387",
   "metadata": {
    "execution": {
     "iopub.execute_input": "2023-04-29T11:13:54.554702Z",
     "iopub.status.busy": "2023-04-29T11:13:54.553985Z",
     "iopub.status.idle": "2023-04-29T11:13:54.561159Z",
     "shell.execute_reply": "2023-04-29T11:13:54.559674Z"
    },
    "papermill": {
     "duration": 0.021764,
     "end_time": "2023-04-29T11:13:54.563625",
     "exception": false,
     "start_time": "2023-04-29T11:13:54.541861",
     "status": "completed"
    },
    "tags": []
   },
   "outputs": [
    {
     "name": "stdout",
     "output_type": "stream",
     "text": [
      "[nltk_data] Downloading package wordnet to /usr/share/nltk_data...\n",
      "[nltk_data]   Package wordnet is already up-to-date!\n"
     ]
    }
   ],
   "source": [
    "nltk.download('wordnet')\n",
    "from nltk.stem import WordNetLemmatizer"
   ]
  },
  {
   "cell_type": "code",
   "execution_count": 12,
   "id": "9bad9353",
   "metadata": {
    "execution": {
     "iopub.execute_input": "2023-04-29T11:13:54.584340Z",
     "iopub.status.busy": "2023-04-29T11:13:54.583900Z",
     "iopub.status.idle": "2023-04-29T11:13:54.590194Z",
     "shell.execute_reply": "2023-04-29T11:13:54.588928Z"
    },
    "papermill": {
     "duration": 0.01969,
     "end_time": "2023-04-29T11:13:54.592794",
     "exception": false,
     "start_time": "2023-04-29T11:13:54.573104",
     "status": "completed"
    },
    "tags": []
   },
   "outputs": [],
   "source": [
    "lemma=WordNetLemmatizer()\n",
    "def preprocess2(text):\n",
    "    final_text=text.apply(lambda x: ' '.join(lemma.lemmatize(word) for word in x.split(' ') if word not in stop))\n",
    "    return final_text"
   ]
  },
  {
   "cell_type": "code",
   "execution_count": 13,
   "id": "91b18f4e",
   "metadata": {
    "execution": {
     "iopub.execute_input": "2023-04-29T11:13:54.614360Z",
     "iopub.status.busy": "2023-04-29T11:13:54.613485Z",
     "iopub.status.idle": "2023-04-29T11:13:54.626649Z",
     "shell.execute_reply": "2023-04-29T11:13:54.625614Z"
    },
    "papermill": {
     "duration": 0.026949,
     "end_time": "2023-04-29T11:13:54.629222",
     "exception": false,
     "start_time": "2023-04-29T11:13:54.602273",
     "status": "completed"
    },
    "tags": []
   },
   "outputs": [
    {
     "data": {
      "text/html": [
       "<div>\n",
       "<style scoped>\n",
       "    .dataframe tbody tr th:only-of-type {\n",
       "        vertical-align: middle;\n",
       "    }\n",
       "\n",
       "    .dataframe tbody tr th {\n",
       "        vertical-align: top;\n",
       "    }\n",
       "\n",
       "    .dataframe thead th {\n",
       "        text-align: right;\n",
       "    }\n",
       "</style>\n",
       "<table border=\"1\" class=\"dataframe\">\n",
       "  <thead>\n",
       "    <tr style=\"text-align: right;\">\n",
       "      <th></th>\n",
       "      <th>id</th>\n",
       "      <th>keyword</th>\n",
       "      <th>location</th>\n",
       "      <th>text</th>\n",
       "      <th>target</th>\n",
       "      <th>clean_text</th>\n",
       "    </tr>\n",
       "  </thead>\n",
       "  <tbody>\n",
       "    <tr>\n",
       "      <th>0</th>\n",
       "      <td>1</td>\n",
       "      <td>NaN</td>\n",
       "      <td>NaN</td>\n",
       "      <td>Our Deeds are the Reason of this #earthquake M...</td>\n",
       "      <td>1</td>\n",
       "      <td>our deeds are the reason of this earthquake ma...</td>\n",
       "    </tr>\n",
       "    <tr>\n",
       "      <th>1</th>\n",
       "      <td>4</td>\n",
       "      <td>NaN</td>\n",
       "      <td>NaN</td>\n",
       "      <td>Forest fire near La Ronge Sask. Canada</td>\n",
       "      <td>1</td>\n",
       "      <td>forest fire near la ronge sask canada</td>\n",
       "    </tr>\n",
       "    <tr>\n",
       "      <th>2</th>\n",
       "      <td>5</td>\n",
       "      <td>NaN</td>\n",
       "      <td>NaN</td>\n",
       "      <td>All residents asked to 'shelter in place' are ...</td>\n",
       "      <td>1</td>\n",
       "      <td>all residents asked to shelter in place are be...</td>\n",
       "    </tr>\n",
       "    <tr>\n",
       "      <th>3</th>\n",
       "      <td>6</td>\n",
       "      <td>NaN</td>\n",
       "      <td>NaN</td>\n",
       "      <td>13,000 people receive #wildfires evacuation or...</td>\n",
       "      <td>1</td>\n",
       "      <td>people receive wildfires evacuation orders in...</td>\n",
       "    </tr>\n",
       "    <tr>\n",
       "      <th>4</th>\n",
       "      <td>7</td>\n",
       "      <td>NaN</td>\n",
       "      <td>NaN</td>\n",
       "      <td>Just got sent this photo from Ruby #Alaska as ...</td>\n",
       "      <td>1</td>\n",
       "      <td>just got sent this photo from ruby alaska as s...</td>\n",
       "    </tr>\n",
       "  </tbody>\n",
       "</table>\n",
       "</div>"
      ],
      "text/plain": [
       "   id keyword location                                               text  \\\n",
       "0   1     NaN      NaN  Our Deeds are the Reason of this #earthquake M...   \n",
       "1   4     NaN      NaN             Forest fire near La Ronge Sask. Canada   \n",
       "2   5     NaN      NaN  All residents asked to 'shelter in place' are ...   \n",
       "3   6     NaN      NaN  13,000 people receive #wildfires evacuation or...   \n",
       "4   7     NaN      NaN  Just got sent this photo from Ruby #Alaska as ...   \n",
       "\n",
       "   target                                         clean_text  \n",
       "0       1  our deeds are the reason of this earthquake ma...  \n",
       "1       1              forest fire near la ronge sask canada  \n",
       "2       1  all residents asked to shelter in place are be...  \n",
       "3       1   people receive wildfires evacuation orders in...  \n",
       "4       1  just got sent this photo from ruby alaska as s...  "
      ]
     },
     "execution_count": 13,
     "metadata": {},
     "output_type": "execute_result"
    }
   ],
   "source": [
    "dftrain.head()"
   ]
  },
  {
   "cell_type": "code",
   "execution_count": 14,
   "id": "9d8bde04",
   "metadata": {
    "execution": {
     "iopub.execute_input": "2023-04-29T11:13:54.651193Z",
     "iopub.status.busy": "2023-04-29T11:13:54.650297Z",
     "iopub.status.idle": "2023-04-29T11:13:54.750544Z",
     "shell.execute_reply": "2023-04-29T11:13:54.749232Z"
    },
    "papermill": {
     "duration": 0.114562,
     "end_time": "2023-04-29T11:13:54.753695",
     "exception": false,
     "start_time": "2023-04-29T11:13:54.639133",
     "status": "completed"
    },
    "tags": []
   },
   "outputs": [],
   "source": [
    "global dis_freq, ndis_freq\n",
    "dis_freq=dftrain.loc[dftrain['target']==1, 'clean_text'].str.split(expand=True).stack().value_counts().to_dict()\n",
    "ndis_freq=dftrain.loc[dftrain['target']==0, 'clean_text'].str.split(expand=True).stack().value_counts().to_dict()"
   ]
  },
  {
   "cell_type": "code",
   "execution_count": 15,
   "id": "10c82042",
   "metadata": {
    "execution": {
     "iopub.execute_input": "2023-04-29T11:13:54.775219Z",
     "iopub.status.busy": "2023-04-29T11:13:54.774775Z",
     "iopub.status.idle": "2023-04-29T11:13:54.781444Z",
     "shell.execute_reply": "2023-04-29T11:13:54.780151Z"
    },
    "papermill": {
     "duration": 0.020467,
     "end_time": "2023-04-29T11:13:54.784106",
     "exception": false,
     "start_time": "2023-04-29T11:13:54.763639",
     "status": "completed"
    },
    "tags": []
   },
   "outputs": [],
   "source": [
    "def create_vector(tweet):\n",
    "    total_dis =0\n",
    "    total_ndis =0\n",
    "    for word in tweet.split(' '):\n",
    "        total_dis+=dis_freq[word] if word in dis_freq.keys() else 0\n",
    "        total_ndis+=ndis_freq[word] if word in ndis_freq.keys() else 0 \n",
    "    return [total_dis, total_ndis]"
   ]
  },
  {
   "cell_type": "code",
   "execution_count": 16,
   "id": "7108c18d",
   "metadata": {
    "execution": {
     "iopub.execute_input": "2023-04-29T11:13:54.805426Z",
     "iopub.status.busy": "2023-04-29T11:13:54.804994Z",
     "iopub.status.idle": "2023-04-29T11:13:54.921475Z",
     "shell.execute_reply": "2023-04-29T11:13:54.920379Z"
    },
    "papermill": {
     "duration": 0.130494,
     "end_time": "2023-04-29T11:13:54.924358",
     "exception": false,
     "start_time": "2023-04-29T11:13:54.793864",
     "status": "completed"
    },
    "tags": []
   },
   "outputs": [],
   "source": [
    "vector1=dftrain['clean_text'].apply(create_vector)\n",
    "vector2=dftest['clean_text'].apply(create_vector)"
   ]
  },
  {
   "cell_type": "code",
   "execution_count": 17,
   "id": "b756d9c1",
   "metadata": {
    "execution": {
     "iopub.execute_input": "2023-04-29T11:13:54.946199Z",
     "iopub.status.busy": "2023-04-29T11:13:54.945245Z",
     "iopub.status.idle": "2023-04-29T11:13:54.963411Z",
     "shell.execute_reply": "2023-04-29T11:13:54.962020Z"
    },
    "papermill": {
     "duration": 0.03171,
     "end_time": "2023-04-29T11:13:54.965839",
     "exception": false,
     "start_time": "2023-04-29T11:13:54.934129",
     "status": "completed"
    },
    "tags": []
   },
   "outputs": [
    {
     "name": "stdout",
     "output_type": "stream",
     "text": [
      "      data0  data1\n",
      "0      2930   3729\n",
      "1       307    100\n",
      "2      4070   4147\n",
      "3      1433    927\n",
      "4      2039   2583\n",
      "...     ...    ...\n",
      "7608   1276   1432\n",
      "7609   8694   9495\n",
      "7610   1057    950\n",
      "7611   2848   2808\n",
      "7612   2301   2326\n",
      "\n",
      "[7613 rows x 2 columns]\n"
     ]
    }
   ],
   "source": [
    "df1 = pd.DataFrame(vector1.values.tolist()).add_prefix('data')\n",
    "df2 = pd.DataFrame(vector2.values.tolist()).add_prefix('data')\n",
    "print(df1)"
   ]
  },
  {
   "cell_type": "markdown",
   "id": "ae9409e2",
   "metadata": {
    "papermill": {
     "duration": 0.009532,
     "end_time": "2023-04-29T11:13:54.985207",
     "exception": false,
     "start_time": "2023-04-29T11:13:54.975675",
     "status": "completed"
    },
    "tags": []
   },
   "source": [
    "#### Model Building"
   ]
  },
  {
   "cell_type": "code",
   "execution_count": 18,
   "id": "e1592100",
   "metadata": {
    "execution": {
     "iopub.execute_input": "2023-04-29T11:13:55.006702Z",
     "iopub.status.busy": "2023-04-29T11:13:55.006260Z",
     "iopub.status.idle": "2023-04-29T11:13:55.011112Z",
     "shell.execute_reply": "2023-04-29T11:13:55.010201Z"
    },
    "papermill": {
     "duration": 0.018393,
     "end_time": "2023-04-29T11:13:55.013393",
     "exception": false,
     "start_time": "2023-04-29T11:13:54.995000",
     "status": "completed"
    },
    "tags": []
   },
   "outputs": [],
   "source": [
    "from sklearn.linear_model import LogisticRegression\n",
    "from sklearn.model_selection import train_test_split\n",
    "from sklearn.metrics import classification_report"
   ]
  },
  {
   "cell_type": "code",
   "execution_count": 19,
   "id": "da8372e8",
   "metadata": {
    "execution": {
     "iopub.execute_input": "2023-04-29T11:13:55.035490Z",
     "iopub.status.busy": "2023-04-29T11:13:55.035057Z",
     "iopub.status.idle": "2023-04-29T11:13:55.042023Z",
     "shell.execute_reply": "2023-04-29T11:13:55.040841Z"
    },
    "papermill": {
     "duration": 0.021472,
     "end_time": "2023-04-29T11:13:55.044690",
     "exception": false,
     "start_time": "2023-04-29T11:13:55.023218",
     "status": "completed"
    },
    "tags": []
   },
   "outputs": [],
   "source": [
    "def train_model(model,X,y, test):\n",
    "    X_train,X_test, y_train,y_test = train_test_split(X,y,test_size=0.3,random_state=1)    \n",
    "    model.fit(X_train,y_train)\n",
    "    y_pred=model.predict(X_test)\n",
    "    print(classification_report(y_test,y_pred))\n",
    "    return model.predict(test)"
   ]
  },
  {
   "cell_type": "code",
   "execution_count": 20,
   "id": "b21ce98d",
   "metadata": {
    "execution": {
     "iopub.execute_input": "2023-04-29T11:13:55.067059Z",
     "iopub.status.busy": "2023-04-29T11:13:55.066581Z",
     "iopub.status.idle": "2023-04-29T11:13:55.072357Z",
     "shell.execute_reply": "2023-04-29T11:13:55.071102Z"
    },
    "papermill": {
     "duration": 0.020258,
     "end_time": "2023-04-29T11:13:55.074932",
     "exception": false,
     "start_time": "2023-04-29T11:13:55.054674",
     "status": "completed"
    },
    "tags": []
   },
   "outputs": [],
   "source": [
    "X=df1\n",
    "y=dftrain['target']"
   ]
  },
  {
   "cell_type": "code",
   "execution_count": 21,
   "id": "ca53baa5",
   "metadata": {
    "execution": {
     "iopub.execute_input": "2023-04-29T11:13:55.097287Z",
     "iopub.status.busy": "2023-04-29T11:13:55.096248Z",
     "iopub.status.idle": "2023-04-29T11:13:55.144128Z",
     "shell.execute_reply": "2023-04-29T11:13:55.142728Z"
    },
    "papermill": {
     "duration": 0.06264,
     "end_time": "2023-04-29T11:13:55.147512",
     "exception": false,
     "start_time": "2023-04-29T11:13:55.084872",
     "status": "completed"
    },
    "tags": []
   },
   "outputs": [
    {
     "name": "stdout",
     "output_type": "stream",
     "text": [
      "              precision    recall  f1-score   support\n",
      "\n",
      "           0       0.77      0.77      0.77      1326\n",
      "           1       0.68      0.68      0.68       958\n",
      "\n",
      "    accuracy                           0.73      2284\n",
      "   macro avg       0.72      0.72      0.72      2284\n",
      "weighted avg       0.73      0.73      0.73      2284\n",
      "\n"
     ]
    }
   ],
   "source": [
    "lr = LogisticRegression()\n",
    "y_pred=train_model(lr,X,y,df2)"
   ]
  },
  {
   "cell_type": "code",
   "execution_count": 22,
   "id": "1c709cf8",
   "metadata": {
    "execution": {
     "iopub.execute_input": "2023-04-29T11:13:55.182296Z",
     "iopub.status.busy": "2023-04-29T11:13:55.181745Z",
     "iopub.status.idle": "2023-04-29T11:13:55.537960Z",
     "shell.execute_reply": "2023-04-29T11:13:55.536649Z"
    },
    "papermill": {
     "duration": 0.377334,
     "end_time": "2023-04-29T11:13:55.540996",
     "exception": false,
     "start_time": "2023-04-29T11:13:55.163662",
     "status": "completed"
    },
    "tags": []
   },
   "outputs": [],
   "source": [
    "from sklearn.feature_extraction.text import CountVectorizer\n",
    "cv= CountVectorizer(max_features = 2500, binary=True)\n",
    "# Max-features - vector length\n",
    "X = cv.fit_transform(dftrain['clean_text']).toarray()\n",
    "X_test = cv.transform(dftest['clean_text']).toarray()"
   ]
  },
  {
   "cell_type": "code",
   "execution_count": 23,
   "id": "ac0f199b",
   "metadata": {
    "execution": {
     "iopub.execute_input": "2023-04-29T11:13:55.563694Z",
     "iopub.status.busy": "2023-04-29T11:13:55.562511Z",
     "iopub.status.idle": "2023-04-29T11:13:55.570748Z",
     "shell.execute_reply": "2023-04-29T11:13:55.569389Z"
    },
    "papermill": {
     "duration": 0.022163,
     "end_time": "2023-04-29T11:13:55.573313",
     "exception": false,
     "start_time": "2023-04-29T11:13:55.551150",
     "status": "completed"
    },
    "tags": []
   },
   "outputs": [
    {
     "data": {
      "text/plain": [
       "array([[0, 0, 0, ..., 0, 0, 0],\n",
       "       [0, 0, 0, ..., 0, 0, 0],\n",
       "       [0, 0, 0, ..., 0, 0, 0],\n",
       "       ...,\n",
       "       [0, 0, 0, ..., 0, 0, 0],\n",
       "       [0, 0, 0, ..., 0, 0, 0],\n",
       "       [0, 0, 1, ..., 0, 0, 0]])"
      ]
     },
     "execution_count": 23,
     "metadata": {},
     "output_type": "execute_result"
    }
   ],
   "source": [
    "X"
   ]
  },
  {
   "cell_type": "code",
   "execution_count": 24,
   "id": "86a9f351",
   "metadata": {
    "execution": {
     "iopub.execute_input": "2023-04-29T11:13:55.596271Z",
     "iopub.status.busy": "2023-04-29T11:13:55.595207Z",
     "iopub.status.idle": "2023-04-29T11:13:56.784742Z",
     "shell.execute_reply": "2023-04-29T11:13:56.783360Z"
    },
    "papermill": {
     "duration": 1.204697,
     "end_time": "2023-04-29T11:13:56.788113",
     "exception": false,
     "start_time": "2023-04-29T11:13:55.583416",
     "status": "completed"
    },
    "tags": []
   },
   "outputs": [
    {
     "name": "stdout",
     "output_type": "stream",
     "text": [
      "              precision    recall  f1-score   support\n",
      "\n",
      "           0       0.80      0.86      0.83      1326\n",
      "           1       0.78      0.70      0.74       958\n",
      "\n",
      "    accuracy                           0.79      2284\n",
      "   macro avg       0.79      0.78      0.78      2284\n",
      "weighted avg       0.79      0.79      0.79      2284\n",
      "\n"
     ]
    }
   ],
   "source": [
    "y_pred=train_model(lr,X,y,X_test)"
   ]
  },
  {
   "cell_type": "code",
   "execution_count": 25,
   "id": "b3d42112",
   "metadata": {
    "execution": {
     "iopub.execute_input": "2023-04-29T11:13:56.825285Z",
     "iopub.status.busy": "2023-04-29T11:13:56.824721Z",
     "iopub.status.idle": "2023-04-29T11:13:57.061612Z",
     "shell.execute_reply": "2023-04-29T11:13:57.060647Z"
    },
    "papermill": {
     "duration": 0.260207,
     "end_time": "2023-04-29T11:13:57.064459",
     "exception": false,
     "start_time": "2023-04-29T11:13:56.804252",
     "status": "completed"
    },
    "tags": []
   },
   "outputs": [],
   "source": [
    "from sklearn.feature_extraction.text import TfidfVectorizer\n",
    "cv = TfidfVectorizer()\n",
    "X_tdidf = cv.fit_transform(dftrain['clean_text'])\n",
    "X_tdidf_test = cv.transform(dftest['clean_text'])"
   ]
  },
  {
   "cell_type": "code",
   "execution_count": 26,
   "id": "80a7c154",
   "metadata": {
    "execution": {
     "iopub.execute_input": "2023-04-29T11:13:57.086545Z",
     "iopub.status.busy": "2023-04-29T11:13:57.086111Z",
     "iopub.status.idle": "2023-04-29T11:13:57.094250Z",
     "shell.execute_reply": "2023-04-29T11:13:57.093172Z"
    },
    "papermill": {
     "duration": 0.022342,
     "end_time": "2023-04-29T11:13:57.096828",
     "exception": false,
     "start_time": "2023-04-29T11:13:57.074486",
     "status": "completed"
    },
    "tags": []
   },
   "outputs": [
    {
     "data": {
      "text/plain": [
       "array([[0., 0., 0., ..., 0., 0., 0.]])"
      ]
     },
     "execution_count": 26,
     "metadata": {},
     "output_type": "execute_result"
    }
   ],
   "source": [
    "X_tdidf[0].toarray()"
   ]
  },
  {
   "cell_type": "code",
   "execution_count": 27,
   "id": "6501634a",
   "metadata": {
    "execution": {
     "iopub.execute_input": "2023-04-29T11:13:57.119503Z",
     "iopub.status.busy": "2023-04-29T11:13:57.118710Z",
     "iopub.status.idle": "2023-04-29T11:13:57.392946Z",
     "shell.execute_reply": "2023-04-29T11:13:57.391566Z"
    },
    "papermill": {
     "duration": 0.289732,
     "end_time": "2023-04-29T11:13:57.396836",
     "exception": false,
     "start_time": "2023-04-29T11:13:57.107104",
     "status": "completed"
    },
    "tags": []
   },
   "outputs": [
    {
     "name": "stdout",
     "output_type": "stream",
     "text": [
      "              precision    recall  f1-score   support\n",
      "\n",
      "           0       0.78      0.92      0.84      1326\n",
      "           1       0.85      0.64      0.73       958\n",
      "\n",
      "    accuracy                           0.80      2284\n",
      "   macro avg       0.81      0.78      0.79      2284\n",
      "weighted avg       0.81      0.80      0.80      2284\n",
      "\n"
     ]
    }
   ],
   "source": [
    "y_pred=train_model(lr,X_tdidf,y,X_tdidf_test)"
   ]
  },
  {
   "cell_type": "code",
   "execution_count": 28,
   "id": "fa515b05",
   "metadata": {
    "execution": {
     "iopub.execute_input": "2023-04-29T11:13:57.433123Z",
     "iopub.status.busy": "2023-04-29T11:13:57.432356Z",
     "iopub.status.idle": "2023-04-29T11:13:57.475221Z",
     "shell.execute_reply": "2023-04-29T11:13:57.473832Z"
    },
    "papermill": {
     "duration": 0.064726,
     "end_time": "2023-04-29T11:13:57.478672",
     "exception": false,
     "start_time": "2023-04-29T11:13:57.413946",
     "status": "completed"
    },
    "tags": []
   },
   "outputs": [
    {
     "name": "stdout",
     "output_type": "stream",
     "text": [
      "              precision    recall  f1-score   support\n",
      "\n",
      "           0       0.77      0.93      0.84      1326\n",
      "           1       0.86      0.61      0.72       958\n",
      "\n",
      "    accuracy                           0.80      2284\n",
      "   macro avg       0.82      0.77      0.78      2284\n",
      "weighted avg       0.81      0.80      0.79      2284\n",
      "\n"
     ]
    }
   ],
   "source": [
    "from sklearn.naive_bayes import MultinomialNB\n",
    "mnb=MultinomialNB()\n",
    "y_pred=train_model(mnb,X_tdidf,y,X_tdidf_test)"
   ]
  },
  {
   "cell_type": "code",
   "execution_count": 29,
   "id": "8f855cb4",
   "metadata": {
    "execution": {
     "iopub.execute_input": "2023-04-29T11:13:57.507524Z",
     "iopub.status.busy": "2023-04-29T11:13:57.507073Z",
     "iopub.status.idle": "2023-04-29T11:13:57.514432Z",
     "shell.execute_reply": "2023-04-29T11:13:57.513512Z"
    },
    "papermill": {
     "duration": 0.021342,
     "end_time": "2023-04-29T11:13:57.516581",
     "exception": false,
     "start_time": "2023-04-29T11:13:57.495239",
     "status": "completed"
    },
    "tags": []
   },
   "outputs": [],
   "source": [
    "submission = dftest[['id']].reset_index(drop=True)\n",
    "submission['target'] = y_pred"
   ]
  },
  {
   "cell_type": "code",
   "execution_count": 30,
   "id": "e9b1c355",
   "metadata": {
    "execution": {
     "iopub.execute_input": "2023-04-29T11:13:57.539612Z",
     "iopub.status.busy": "2023-04-29T11:13:57.538953Z",
     "iopub.status.idle": "2023-04-29T11:13:57.544810Z",
     "shell.execute_reply": "2023-04-29T11:13:57.543940Z"
    },
    "papermill": {
     "duration": 0.020032,
     "end_time": "2023-04-29T11:13:57.546902",
     "exception": false,
     "start_time": "2023-04-29T11:13:57.526870",
     "status": "completed"
    },
    "tags": []
   },
   "outputs": [
    {
     "data": {
      "text/plain": [
       "array([1, 0, 1, ..., 1, 1, 1])"
      ]
     },
     "execution_count": 30,
     "metadata": {},
     "output_type": "execute_result"
    }
   ],
   "source": [
    "y_pred"
   ]
  },
  {
   "cell_type": "code",
   "execution_count": 31,
   "id": "43ae9f53",
   "metadata": {
    "execution": {
     "iopub.execute_input": "2023-04-29T11:13:57.569704Z",
     "iopub.status.busy": "2023-04-29T11:13:57.569247Z",
     "iopub.status.idle": "2023-04-29T11:13:57.581431Z",
     "shell.execute_reply": "2023-04-29T11:13:57.580240Z"
    },
    "papermill": {
     "duration": 0.026379,
     "end_time": "2023-04-29T11:13:57.583695",
     "exception": false,
     "start_time": "2023-04-29T11:13:57.557316",
     "status": "completed"
    },
    "tags": []
   },
   "outputs": [
    {
     "data": {
      "text/html": [
       "<div>\n",
       "<style scoped>\n",
       "    .dataframe tbody tr th:only-of-type {\n",
       "        vertical-align: middle;\n",
       "    }\n",
       "\n",
       "    .dataframe tbody tr th {\n",
       "        vertical-align: top;\n",
       "    }\n",
       "\n",
       "    .dataframe thead th {\n",
       "        text-align: right;\n",
       "    }\n",
       "</style>\n",
       "<table border=\"1\" class=\"dataframe\">\n",
       "  <thead>\n",
       "    <tr style=\"text-align: right;\">\n",
       "      <th></th>\n",
       "      <th>id</th>\n",
       "      <th>target</th>\n",
       "    </tr>\n",
       "  </thead>\n",
       "  <tbody>\n",
       "    <tr>\n",
       "      <th>0</th>\n",
       "      <td>0</td>\n",
       "      <td>1</td>\n",
       "    </tr>\n",
       "    <tr>\n",
       "      <th>1</th>\n",
       "      <td>2</td>\n",
       "      <td>0</td>\n",
       "    </tr>\n",
       "    <tr>\n",
       "      <th>2</th>\n",
       "      <td>3</td>\n",
       "      <td>1</td>\n",
       "    </tr>\n",
       "    <tr>\n",
       "      <th>3</th>\n",
       "      <td>9</td>\n",
       "      <td>1</td>\n",
       "    </tr>\n",
       "    <tr>\n",
       "      <th>4</th>\n",
       "      <td>11</td>\n",
       "      <td>1</td>\n",
       "    </tr>\n",
       "    <tr>\n",
       "      <th>...</th>\n",
       "      <td>...</td>\n",
       "      <td>...</td>\n",
       "    </tr>\n",
       "    <tr>\n",
       "      <th>3258</th>\n",
       "      <td>10861</td>\n",
       "      <td>1</td>\n",
       "    </tr>\n",
       "    <tr>\n",
       "      <th>3259</th>\n",
       "      <td>10865</td>\n",
       "      <td>0</td>\n",
       "    </tr>\n",
       "    <tr>\n",
       "      <th>3260</th>\n",
       "      <td>10868</td>\n",
       "      <td>1</td>\n",
       "    </tr>\n",
       "    <tr>\n",
       "      <th>3261</th>\n",
       "      <td>10874</td>\n",
       "      <td>1</td>\n",
       "    </tr>\n",
       "    <tr>\n",
       "      <th>3262</th>\n",
       "      <td>10875</td>\n",
       "      <td>1</td>\n",
       "    </tr>\n",
       "  </tbody>\n",
       "</table>\n",
       "<p>3263 rows × 2 columns</p>\n",
       "</div>"
      ],
      "text/plain": [
       "         id  target\n",
       "0         0       1\n",
       "1         2       0\n",
       "2         3       1\n",
       "3         9       1\n",
       "4        11       1\n",
       "...     ...     ...\n",
       "3258  10861       1\n",
       "3259  10865       0\n",
       "3260  10868       1\n",
       "3261  10874       1\n",
       "3262  10875       1\n",
       "\n",
       "[3263 rows x 2 columns]"
      ]
     },
     "execution_count": 31,
     "metadata": {},
     "output_type": "execute_result"
    }
   ],
   "source": [
    "submission"
   ]
  },
  {
   "cell_type": "code",
   "execution_count": 32,
   "id": "f1e6473f",
   "metadata": {
    "execution": {
     "iopub.execute_input": "2023-04-29T11:13:57.606871Z",
     "iopub.status.busy": "2023-04-29T11:13:57.606436Z",
     "iopub.status.idle": "2023-04-29T11:13:57.620293Z",
     "shell.execute_reply": "2023-04-29T11:13:57.619056Z"
    },
    "papermill": {
     "duration": 0.028584,
     "end_time": "2023-04-29T11:13:57.623019",
     "exception": false,
     "start_time": "2023-04-29T11:13:57.594435",
     "status": "completed"
    },
    "tags": []
   },
   "outputs": [],
   "source": [
    "submission.to_csv('Week4NLP_submission.csv', index=False)"
   ]
  }
 ],
 "metadata": {
  "kernelspec": {
   "display_name": "Python 3",
   "language": "python",
   "name": "python3"
  },
  "language_info": {
   "codemirror_mode": {
    "name": "ipython",
    "version": 3
   },
   "file_extension": ".py",
   "mimetype": "text/x-python",
   "name": "python",
   "nbconvert_exporter": "python",
   "pygments_lexer": "ipython3",
   "version": "3.7.12"
  },
  "papermill": {
   "default_parameters": {},
   "duration": 19.625049,
   "end_time": "2023-04-29T11:13:58.456115",
   "environment_variables": {},
   "exception": null,
   "input_path": "__notebook__.ipynb",
   "output_path": "__notebook__.ipynb",
   "parameters": {},
   "start_time": "2023-04-29T11:13:38.831066",
   "version": "2.4.0"
  }
 },
 "nbformat": 4,
 "nbformat_minor": 5
}
